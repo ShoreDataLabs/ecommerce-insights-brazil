{
 "cells": [
  {
   "cell_type": "code",
   "execution_count": 1,
   "id": "3219b85c",
   "metadata": {},
   "outputs": [
    {
     "name": "stdout",
     "output_type": "stream",
     "text": [
      "./database/ecommerce.db\n"
     ]
    }
   ],
   "source": [
    "import os\n",
    "from dotenv import load_dotenv\n",
    "import sqlite3\n",
    "\n",
    "# Load environment variables from .env file\n",
    "load_dotenv()\n",
    "\n",
    "# Database configuration\n",
    "DB_PATH = os.getenv('DB_PATH')\n",
    "print(DB_PATH)"
   ]
  },
  {
   "cell_type": "code",
   "execution_count": 2,
   "id": "8a02ac68",
   "metadata": {},
   "outputs": [
    {
     "name": "stdout",
     "output_type": "stream",
     "text": [
      "❌ Error extracting connection test from SQLite: unable to open database file\n"
     ]
    }
   ],
   "source": [
    "def extract_from_sqlite(query, description=\"data\"):\n",
    "    \"\"\"\n",
    "    Extract data from SQLite using a SQL query.\n",
    "    \n",
    "    Parameters:\n",
    "    -----------\n",
    "    query : str\n",
    "        SQL query to execute\n",
    "    description : str\n",
    "        Description of the data being extracted for logging\n",
    "    \n",
    "    Returns:\n",
    "    --------\n",
    "    pandas.DataFrame or None\n",
    "        Query results as DataFrame, None if error occurs\n",
    "    \"\"\"\n",
    "    try:\n",
    "        # Connect to the SQLite database\n",
    "        conn = sqlite3.connect(DB_PATH)\n",
    "        \n",
    "        # Execute the query and load results into a DataFrame\n",
    "        df = pd.read_sql_query(query, conn)\n",
    "        \n",
    "        # Close the connection\n",
    "        conn.close()\n",
    "        \n",
    "        print(f\"✅ Extracted {len(df):,} rows of {description} from database\")\n",
    "        return df\n",
    "        \n",
    "    except Exception as e:\n",
    "        print(f\"❌ Error extracting {description} from SQLite: {e}\")\n",
    "        return None\n",
    "\n",
    "# Test the connection\n",
    "connection_test_query = \"SELECT COUNT(*) as total_orders FROM orders;\"\n",
    "test_result = extract_from_sqlite(connection_test_query, \"connection test\")\n",
    "if test_result is not None:\n",
    "    print(f\"🎯 Database connection successful! Total orders: {test_result['total_orders'].iloc[0]:,}\")"
   ]
  }
 ],
 "metadata": {
  "kernelspec": {
   "display_name": "ml_project",
   "language": "python",
   "name": "python3"
  },
  "language_info": {
   "codemirror_mode": {
    "name": "ipython",
    "version": 3
   },
   "file_extension": ".py",
   "mimetype": "text/x-python",
   "name": "python",
   "nbconvert_exporter": "python",
   "pygments_lexer": "ipython3",
   "version": "3.9.18"
  }
 },
 "nbformat": 4,
 "nbformat_minor": 5
}
